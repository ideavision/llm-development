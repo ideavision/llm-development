# Import the other required packages and modules.
import pandas as pd
import datetime
import re
import string
import matplotlib.pyplot as plt
import seaborn as sns
import numpy as np
from transformers import pipeline
from sentence_transformers import SentenceTransformer
from sentence_transformers.util import semantic_search


# From the IPython.display package, import display and Markdown
from IPython.display import display, Markdown


# Read the data from runway.csv
runway = pd.read_csv("runway.csv", parse_dates=['review_date'])

# Print the column info
print(runway.info())


# Remove the forward-slash character
runway['review_text_cleaned'] = runway['review_text'].str.replace(r"\/","")

# Remove punctuation
runway['review_text_cleaned'] = runway['review_text_cleaned'].str.translate(string.punctuation)

# Remove digits
runway['review_text_cleaned'] = runway['review_text_cleaned'].str.replace(r"\d+","")

# Remove running spaces
runway['review_text_cleaned'] = runway['review_text_cleaned'].str.replace(r"\s{2,}","")

# Make the text lowercase
runway['review_text_cleaned'] = runway['review_text_cleaned'].str.lower()


model = "distilbert-base-uncased-finetuned-sst-2-english"

# Instantiate the new pipeline() object for sentiment analysis. Include the model defined above as the model input.
sentimentAnalysis = pipeline("sentiment-analysis", model = model)

# Run sentiment analysis on the cleaned review text.
sent_analysis_output = sentimentAnalysis(list(runway["review_text_cleaned"]))


# Parse out the two pieces of output from sent_analysis_output - "label" and "score".
runway['clean_sentiment_category'] = [s["label"] for s in sent_analysis_output]
runway['clean_sentiment_score'] = [s["score"] for s in sent_analysis_output]

# Create the first histogram using the built-in Pandas histogram method.
sns.histplot(data=runway, x="clean_sentiment_score", bins=20)
plt.suptitle("Distribution of Sentiment Score")
plt.xlabel("Sentiment Score")
plt.ylabel("Count of Reviews")
plt.title("For Clean Review Text")
plt.show()


# Create a new column called "year" which is the year of the "review_date".
runway['year'] = runway['review_date'].dt.year

# Create a new dataframe of review counts by "year" and "cleaned_sentiment_category".
chart_data = runway.groupby(['year', 'clean_sentiment_category'], as_index=False)['user_id'].count()
chart_data.columns = ['year', 'clean_sentiment_category', 'cnt']

# Create a bar plot showing the count of reviews for each sentiment category over the years.
sns.barplot(data=chart_data, x="year", y="cnt", hue="clean_sentiment_category", errorbar = None)
plt.title("Sentiment between 2016 - 2023")
plt.xlabel("Review Year")
plt.ylabel("Count of Reviews")
plt.show()


# Create a new sentiment analysis output for "review_text".
sent_analysis_2 = sentimentAnalysis(list(runway["review_text"]))

# Parse the output into "sentiment_category" and "sentiment_score".
runway['sentiment_category'] = [s["label"] for s in sent_analysis_2]
runway['sentiment_score'] = [s["score"] for s in sent_analysis_2]

# Print the confusion matrix comparing the two sentiment category outputs.
display(pd.crosstab(runway['clean_sentiment_category'], runway['sentiment_category']))


model_id = "sentence-transformers/all-MiniLM-L6-v2"

# Instantiate a new SentenceTransformer object.
model = SentenceTransformer(model_id)

# Generate the embeddings for the "rented for" column.
embeddings = model.encode(list(runway["rented for"]))

print(embeddings.shape)


# Import TSNE
from sklearn.manifold import TSNE

# Instantiate a new TSNE object. 
tsne = TSNE(n_components=2, perplexity=15, random_state=42, init='random', learning_rate=200)

# Generate the tsne dimensions using the saved embeddings.
tsne_dims = tsne.fit_transform(embeddings)

print(tsne_dims.shape)


# Parse out the x and y dimensions from the tsne output.
runway['x'] = [x for x,y in tsne_dims]
runway['y'] = [y for x,y in tsne_dims]

# Create the scatterplot
sns.scatterplot(x = "x", y = "y", hue = "category", data = runway)
plt.legend()
plt.title("Embeddings visualized for 'rented for' reasons and category using t-SNE")
plt.show()


# Define query
query = "a gorgeous and flattering dress"

# Embed query
query_emb = model.encode(query, convert_to_tensor=True)

# Calculate similarity between query and item embeddings
hits = semantic_search(query_emb, embeddings, top_k=3)

# Print top similar items
for hit in hits[0]:
    idx = hit['corpus_id']
    print(
        "ITEM ID: ", runway.iloc[idx]['item_id'], 
        "; RENTED FOR: ", runway.iloc[idx]['rented for'],
        "; REVIEW", runway.iloc[idx]['review_text'])


# Instantiate the pipeline for generating text
generator = pipeline(model="gpt2")

# Pre-defined prompt
prompt = "New for this winter season, a lovely dress that"

# Use the prompt as input to the generator to return output.
output = generator(prompt, num_return_sequences=1, return_full_text=False)

# Print the generated text.
print("New Marketing Campaign: ", prompt, output[0]['generated_text'])
